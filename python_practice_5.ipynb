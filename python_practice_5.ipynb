{
  "nbformat": 4,
  "nbformat_minor": 0,
  "metadata": {
    "colab": {
      "provenance": []
    },
    "kernelspec": {
      "name": "python3",
      "display_name": "Python 3"
    },
    "language_info": {
      "name": "python"
    }
  },
  "cells": [
    {
      "cell_type": "markdown",
      "source": [
        "# I. OOP"
      ],
      "metadata": {
        "id": "5qV_sehzFCTp"
      }
    },
    {
      "cell_type": "markdown",
      "source": [
        "1. (6б). Створіть клас Animal, додайте три атрибути, один з яких має значення за замовчуванням та два методи на свій розсуд."
      ],
      "metadata": {
        "id": "tx_U_hOALyfg"
      }
    },
    {
      "cell_type": "code",
      "source": [
        "class Animal:\n",
        "  def __init__(self, name, weight, diet_type = \"carnivorous\"):\n",
        "    self.name = name\n",
        "    self.weight = weight\n",
        "    self.diet_type = diet_type\n",
        "\n",
        "\n",
        "  def __str__(self):\n",
        "    return f\"Animal: {self.name}. Weight: {self.weight}. Diet type: {self.diet_type}\"\n",
        "\n",
        "\n",
        "  def heavier(self):\n",
        "    if self.weight > 80:\n",
        "      return f\"The animal {self.name} is heavier than the average human!\"\n",
        "    else:\n",
        "      return f\"The animal {self.name} is lighter than the average human!\""
      ],
      "metadata": {
        "id": "-Vf895KaL88N"
      },
      "execution_count": null,
      "outputs": []
    },
    {
      "cell_type": "markdown",
      "source": [
        "2. (2б). Створіть два обʼєкти цього класу, де один з обʼєктів створюється із дефолтним значенням атрибуту. На одному обʼєкті отримайте значення його атрибуту, а на іншому викличте один з його методів."
      ],
      "metadata": {
        "id": "X_UlOMB0L93w"
      }
    },
    {
      "cell_type": "code",
      "source": [
        "tiger = Animal(\"Tiger\", 250)\n",
        "koala = Animal(\"Koala\", 12, \"herbivorous\")\n",
        "\n",
        "print(tiger.diet_type)\n",
        "print(koala.heavier())"
      ],
      "metadata": {
        "id": "7gBu0ESOMCpG",
        "colab": {
          "base_uri": "https://localhost:8080/"
        },
        "outputId": "1c6940e2-7162-4adf-8ec4-a8675aa47a6c"
      },
      "execution_count": null,
      "outputs": [
        {
          "output_type": "stream",
          "name": "stdout",
          "text": [
            "carnivorous\n",
            "The animal Koala is lighter than the average human!\n"
          ]
        }
      ]
    },
    {
      "cell_type": "markdown",
      "source": [
        "3. (5б). Створіть клас, де атрибути мають різні рівні доступу. Спробуйте отримати їхні значення та опишіть результати."
      ],
      "metadata": {
        "id": "HoqSCZt1MHn5"
      }
    },
    {
      "cell_type": "code",
      "source": [
        "class Person:\n",
        "    def __init__(self, name, age, height):\n",
        "        self.name = name   # public\n",
        "        self._age = age    # protected\n",
        "        self.__height = height # private\n",
        "\n",
        "p1 = Person(\"John\", 20, 170)\n",
        "\n",
        "print(p1.name) # public: can be accessed\n",
        "print(p1._age) # protected: can be accessed but not advised\n",
        "print(p1.__height) # private: will give AttributeError"
      ],
      "metadata": {
        "id": "r9b3vJxBMSPV",
        "colab": {
          "base_uri": "https://localhost:8080/",
          "height": 211
        },
        "outputId": "fbc58fb0-7c30-4554-e9ca-12bde6fa847a"
      },
      "execution_count": null,
      "outputs": [
        {
          "output_type": "stream",
          "name": "stdout",
          "text": [
            "John\n",
            "20\n"
          ]
        },
        {
          "output_type": "error",
          "ename": "AttributeError",
          "evalue": "'Person' object has no attribute '__height'",
          "traceback": [
            "\u001b[0;31m---------------------------------------------------------------------------\u001b[0m",
            "\u001b[0;31mAttributeError\u001b[0m                            Traceback (most recent call last)",
            "\u001b[0;32m<ipython-input-5-f051a04b656d>\u001b[0m in \u001b[0;36m<cell line: 11>\u001b[0;34m()\u001b[0m\n\u001b[1;32m      9\u001b[0m \u001b[0mprint\u001b[0m\u001b[0;34m(\u001b[0m\u001b[0mp1\u001b[0m\u001b[0;34m.\u001b[0m\u001b[0mname\u001b[0m\u001b[0;34m)\u001b[0m        \u001b[0;31m# public: can be accessed\u001b[0m\u001b[0;34m\u001b[0m\u001b[0;34m\u001b[0m\u001b[0m\n\u001b[1;32m     10\u001b[0m \u001b[0mprint\u001b[0m\u001b[0;34m(\u001b[0m\u001b[0mp1\u001b[0m\u001b[0;34m.\u001b[0m\u001b[0m_age\u001b[0m\u001b[0;34m)\u001b[0m        \u001b[0;31m# protected: can be accessed but not advised\u001b[0m\u001b[0;34m\u001b[0m\u001b[0;34m\u001b[0m\u001b[0m\n\u001b[0;32m---> 11\u001b[0;31m \u001b[0mprint\u001b[0m\u001b[0;34m(\u001b[0m\u001b[0mp1\u001b[0m\u001b[0;34m.\u001b[0m\u001b[0m__height\u001b[0m\u001b[0;34m)\u001b[0m  \u001b[0;31m# private: will give AttributeError\u001b[0m\u001b[0;34m\u001b[0m\u001b[0;34m\u001b[0m\u001b[0m\n\u001b[0m",
            "\u001b[0;31mAttributeError\u001b[0m: 'Person' object has no attribute '__height'"
          ]
        }
      ]
    },
    {
      "cell_type": "markdown",
      "source": [
        "4. (7б). Як ви розумієте термін self? Для чого використовується метод __init __?"
      ],
      "metadata": {
        "id": "5op2m2vgMSkZ"
      }
    },
    {
      "cell_type": "markdown",
      "source": [
        "self - це посилання на поточний об'єкт класу, який використовується задля отримання доступу до атрибутів класу. Метод __init__ - це вбудована функція, яку використовують для надання значень властивостям об'єкта, або для виконання операцій, які потрібно зробити під час створення об'єкту."
      ],
      "metadata": {
        "id": "DyiPqNRvMasx"
      }
    },
    {
      "cell_type": "markdown",
      "source": [
        "5. (9б). Створіть клас Фігура без атрибутів, з методом get_area для отримання площі фігури, що повертає 0 та __add __, який приймає self та other в якості аргументів, а повертає суму площин фігур self та other."
      ],
      "metadata": {
        "id": "-6X8EGfjMd2y"
      }
    },
    {
      "cell_type": "code",
      "source": [
        "class Figure:\n",
        "  def get_area(self):\n",
        "    return 0\n",
        "\n",
        "  def __add__(self, other):\n",
        "    return self.get_area() + other.get_area()"
      ],
      "metadata": {
        "id": "4rvO_wYUMaEr"
      },
      "execution_count": null,
      "outputs": []
    },
    {
      "cell_type": "markdown",
      "source": [
        "6. (11б). Створіть 2 дочірніх класи від Фігури: Трикутник та Коло, які мають атрибути, необхідні для розрахунку площин. Визначте метод get_area в кожному з них так, щоби вони розраховували площу в залежності від формули для кожного типу фігури. Створіть обʼєкт класу Трикутник та обʼєкт класу Коло. Виконайте операцію суми за допомогою оператора + між ними."
      ],
      "metadata": {
        "id": "SFcKnnv5Mo_z"
      }
    },
    {
      "cell_type": "code",
      "source": [
        "class Triangle(Figure):\n",
        "  def __init__(self, a, h):\n",
        "    self.base = a\n",
        "    self.height = h\n",
        "\n",
        "  def get_area(self):\n",
        "    return 0.5 * self.base * self.height\n",
        "\n",
        "class Circle(Figure):\n",
        "  def __init__(self, r):\n",
        "    self.radius = r\n",
        "\n",
        "  def get_area(self):\n",
        "    return 3.141592 * self.radius * self.radius\n",
        "\n",
        "triangle = Triangle(10, 5)\n",
        "circle = Circle(5)\n",
        "\n",
        "print(triangle + circle)"
      ],
      "metadata": {
        "id": "H3GVNr69Muf3",
        "colab": {
          "base_uri": "https://localhost:8080/"
        },
        "outputId": "c4e997a1-b297-4418-ff65-98f0ccfa42cf"
      },
      "execution_count": null,
      "outputs": [
        {
          "output_type": "stream",
          "name": "stdout",
          "text": [
            "103.5398\n"
          ]
        }
      ]
    },
    {
      "cell_type": "markdown",
      "source": [
        "7. (3б). Продемонструйте різницю між isinstance та issubclass."
      ],
      "metadata": {
        "id": "HCvR206YMvLK"
      }
    },
    {
      "cell_type": "code",
      "source": [
        "print(isinstance(circle, Circle)) #об'єкт circle є об'єктом класу Circle? - true\n",
        "print(isinstance(circle, Figure)) #об'єкт circle є об'єктом класу Figure? - true\n",
        "print(isinstance(triangle, Circle)) #об'єкт triangle є об'єктом класу Circle? - false\n",
        "print(isinstance(triangle, Figure)) #об'єкт triangle є об'єктом класу Figure? - true\n",
        "\n",
        "print(issubclass(Circle, Figure)) #клас Circle є підкласом класу Figure? - true\n",
        "print(issubclass(Triangle, Figure)) #клас Triangle є підкласом класу Figure? - true\n",
        "print(issubclass(Circle, Triangle)) #клас Circle є підкласом класу Triangle? - false"
      ],
      "metadata": {
        "id": "L_V1bBvDM0GN",
        "colab": {
          "base_uri": "https://localhost:8080/"
        },
        "outputId": "a71e5a52-5976-41fd-dac1-4b001fd5fb07"
      },
      "execution_count": null,
      "outputs": [
        {
          "output_type": "stream",
          "name": "stdout",
          "text": [
            "True\n",
            "True\n",
            "False\n",
            "True\n",
            "True\n",
            "True\n",
            "False\n"
          ]
        }
      ]
    },
    {
      "cell_type": "markdown",
      "source": [
        "8. (13б). Створіть клас BankAccount з приватними атрибутами balance та account_number. Реалізуйте методи поповнення та зняття коштів, забезпечивши належну інкапсуляцію. Підказка: використовуйте декоратори property та setter."
      ],
      "metadata": {
        "id": "jjsaBZ-iM0Qq"
      }
    },
    {
      "cell_type": "code",
      "source": [
        "class BankAccount:\n",
        "    def __init__(self, account_number, balance=0):\n",
        "        self.__account_number = account_number\n",
        "        self.__balance = balance\n",
        "\n",
        "    @property\n",
        "    def account_number(self):\n",
        "        return self.__account_number\n",
        "\n",
        "    @property\n",
        "    def balance(self):\n",
        "        return self.__balance\n",
        "\n",
        "    @balance.setter\n",
        "    def balance(self, amount):\n",
        "        self.__balance += amount\n",
        "\n",
        "    def top_up(self, amount):\n",
        "        if amount > 0:\n",
        "            self.balance = amount\n",
        "            print(f\"Your account {self.account_number} has been credited with {amount}. Current balance: {self.balance}\")\n",
        "        else:\n",
        "            print(\"Incorrect amount entered.\")\n",
        "\n",
        "    def withdraw(self, amount):\n",
        "        if amount <= 0:\n",
        "            print(\"Incorrect amount entered.\")\n",
        "        elif self.balance - amount < 0:\n",
        "            print(\"There are insufficient funds in the account for withdrawal.\")\n",
        "        else:\n",
        "            self.balance = -amount\n",
        "            print(\n",
        "                f\"From your account {self.account_number} {amount} has been withdrawn. Current balance: {self.balance}.\")\n",
        "\n",
        "\n",
        "myAccount = BankAccount(1234, 1000)\n",
        "myAccount.top_up(150)\n",
        "myAccount.withdraw(500)"
      ],
      "metadata": {
        "id": "xCvZ7lh8M7YA",
        "colab": {
          "base_uri": "https://localhost:8080/"
        },
        "outputId": "80201dac-5d47-4a8e-8910-f43f685fab0f"
      },
      "execution_count": null,
      "outputs": [
        {
          "output_type": "stream",
          "name": "stdout",
          "text": [
            "Your account 1234 has been credited with 150. Current balance: 1150\n",
            "From your account 1234 500 has been withdrawn. Current balance: 650.\n"
          ]
        }
      ]
    },
    {
      "cell_type": "markdown",
      "source": [
        "9. (11б). Створіть клас Library, який містить список об'єктів типу Book. Реалізуйте методи для додавання книги, видалення книги та відображення списку книг."
      ],
      "metadata": {
        "id": "tIzL2SJTM8ft"
      }
    },
    {
      "cell_type": "code",
      "source": [
        "class Book:\n",
        "    def __init__(self, title, author):\n",
        "        self.title = title\n",
        "        self.author = author\n",
        "\n",
        "    def __str__(self):\n",
        "        return f'\"{self.title}\" by {self.author}'\n",
        "\n",
        "\n",
        "class Library:\n",
        "    def __init__(self):\n",
        "        self.books = []\n",
        "\n",
        "    def add_book(self, book):\n",
        "        self.books.append(book)\n",
        "        print(f'Book \"{book.title}\" has been added to the library.')\n",
        "\n",
        "    def delete_book(self, title):\n",
        "        for book in self.books:\n",
        "            if book.title == title:\n",
        "                self.books.remove(book)\n",
        "                print(f'Book \"{title}\" has been removed from the library.')\n",
        "                return\n",
        "        print(f\"The book titled {title} was not found in the library.\")\n",
        "\n",
        "    def display_books(self):\n",
        "        if self.books:\n",
        "            print(\"Library Books:\")\n",
        "            for book in self.books:\n",
        "                print(book)\n",
        "        else:\n",
        "            print(\"The library is currently empty.\")\n",
        "\n",
        "\n",
        "firstBook = Book(\"Game of Thrones\", \"George Martin\")\n",
        "secondBook = Book(\"Alice's Adventures in Wonderland\", \"Lewis Carroll\")\n",
        "thirdBook = Book(\"Dune\", \"Frank Herbert\")\n",
        "\n",
        "myLibrary = Library()\n",
        "\n",
        "myLibrary.display_books()\n",
        "\n",
        "myLibrary.add_book(firstBook)\n",
        "myLibrary.add_book(secondBook)\n",
        "myLibrary.add_book(thirdBook)\n",
        "\n",
        "myLibrary.display_books()\n",
        "\n",
        "myLibrary.delete_book(\"Dune\")\n",
        "\n",
        "myLibrary.display_books()\n"
      ],
      "metadata": {
        "id": "HWxfJKLtNAUZ",
        "colab": {
          "base_uri": "https://localhost:8080/"
        },
        "outputId": "0b9d7c59-7960-4962-c384-a9f97fc5d4a4"
      },
      "execution_count": null,
      "outputs": [
        {
          "output_type": "stream",
          "name": "stdout",
          "text": [
            "The library is currently empty.\n",
            "Book \"Game of Thrones\" has been added to the library.\n",
            "Book \"Alice's Adventures in Wonderland\" has been added to the library.\n",
            "Book \"Dune\" has been added to the library.\n",
            "Library Books:\n",
            "\"Game of Thrones\" by George Martin\n",
            "\"Alice's Adventures in Wonderland\" by Lewis Carroll\n",
            "\"Dune\" by Frank Herbert\n",
            "Book \"Dune\" has been removed from the library.\n",
            "Library Books:\n",
            "\"Game of Thrones\" by George Martin\n",
            "\"Alice's Adventures in Wonderland\" by Lewis Carroll\n"
          ]
        }
      ]
    },
    {
      "cell_type": "markdown",
      "source": [
        "10. (13б). Створіть клас Person з атрибутами name та age. Створіть ще один клас Employee з такими атрибутами, як department та salary. Створіть клас Manager, який успадковує обидва класи Person та Employee. Продемонструйте використання множинної спадковості, створивши обʼєкт класу Manager та отримавши mro для цього класу."
      ],
      "metadata": {
        "id": "lmV8pAwwNIqu"
      }
    },
    {
      "cell_type": "code",
      "source": [
        "class Person:\n",
        "    def __init__(self, name, age):\n",
        "        self.name = name\n",
        "        self.age = age\n",
        "\n",
        "\n",
        "class Employee:\n",
        "    def __init__(self, department, salary):\n",
        "        self.department = department\n",
        "        self.salary = salary\n",
        "\n",
        "\n",
        "class Manager(Person, Employee):\n",
        "    def __init__(self, name, age, department, salary):\n",
        "        Person.__init__(self, name, age)\n",
        "        Employee.__init__(self, department, salary)\n",
        "\n",
        "\n",
        "myPerson = Manager(\"Dmytro\", 25, \"IT\", 100_000)\n",
        "print(Manager.mro())"
      ],
      "metadata": {
        "id": "R49grKlWNPeN",
        "colab": {
          "base_uri": "https://localhost:8080/"
        },
        "outputId": "41851614-d5e8-4346-ea91-d1841c4aa192"
      },
      "execution_count": null,
      "outputs": [
        {
          "output_type": "stream",
          "name": "stdout",
          "text": [
            "[<class '__main__.Manager'>, <class '__main__.Person'>, <class '__main__.Employee'>, <class 'object'>]\n"
          ]
        }
      ]
    },
    {
      "cell_type": "markdown",
      "source": [
        "# II. Iterator"
      ],
      "metadata": {
        "id": "dIJyUiNBFG8G"
      }
    },
    {
      "cell_type": "markdown",
      "source": [
        "11. (4б). Визначте рядок(str) з 4ма різними за значенням символами. Створіть ітератор на основі цього рядка. Викличте 5 разів функцію next на ітераторі, 4ри перших з них огорніть у ф-цію print()."
      ],
      "metadata": {
        "id": "13vsm0NyKIzL"
      }
    },
    {
      "cell_type": "code",
      "source": [
        "my_str11 = \"abcd\"\n",
        "my_iterator = iter(my_str11)\n",
        "print(next(my_iterator))\n",
        "print(next(my_iterator))\n",
        "print(next(my_iterator))\n",
        "print(next(my_iterator))\n",
        "next(my_iterator)"
      ],
      "metadata": {
        "id": "81ntabAkKuz-",
        "colab": {
          "base_uri": "https://localhost:8080/",
          "height": 245
        },
        "outputId": "947b47ea-93c7-492a-b703-40318e8f89c4"
      },
      "execution_count": null,
      "outputs": [
        {
          "output_type": "stream",
          "name": "stdout",
          "text": [
            "a\n",
            "b\n",
            "c\n",
            "d\n"
          ]
        },
        {
          "output_type": "error",
          "ename": "StopIteration",
          "evalue": "",
          "traceback": [
            "\u001b[0;31m---------------------------------------------------------------------------\u001b[0m",
            "\u001b[0;31mStopIteration\u001b[0m                             Traceback (most recent call last)",
            "\u001b[0;32m<ipython-input-5-477c8bbd42dc>\u001b[0m in \u001b[0;36m<cell line: 7>\u001b[0;34m()\u001b[0m\n\u001b[1;32m      5\u001b[0m \u001b[0mprint\u001b[0m\u001b[0;34m(\u001b[0m\u001b[0mnext\u001b[0m\u001b[0;34m(\u001b[0m\u001b[0mmy_iterator\u001b[0m\u001b[0;34m)\u001b[0m\u001b[0;34m)\u001b[0m\u001b[0;34m\u001b[0m\u001b[0;34m\u001b[0m\u001b[0m\n\u001b[1;32m      6\u001b[0m \u001b[0mprint\u001b[0m\u001b[0;34m(\u001b[0m\u001b[0mnext\u001b[0m\u001b[0;34m(\u001b[0m\u001b[0mmy_iterator\u001b[0m\u001b[0;34m)\u001b[0m\u001b[0;34m)\u001b[0m\u001b[0;34m\u001b[0m\u001b[0;34m\u001b[0m\u001b[0m\n\u001b[0;32m----> 7\u001b[0;31m \u001b[0mnext\u001b[0m\u001b[0;34m(\u001b[0m\u001b[0mmy_iterator\u001b[0m\u001b[0;34m)\u001b[0m\u001b[0;34m\u001b[0m\u001b[0;34m\u001b[0m\u001b[0m\n\u001b[0m",
            "\u001b[0;31mStopIteration\u001b[0m: "
          ]
        }
      ]
    },
    {
      "cell_type": "markdown",
      "source": [
        "А що якщо викликати цю ж функцію на рядку?"
      ],
      "metadata": {
        "id": "aekWHGXOLRsO"
      }
    },
    {
      "cell_type": "code",
      "source": [
        "next(my_str11) #Рядок - ітерабельний об'єкт, але не ітератор сам по собі"
      ],
      "metadata": {
        "id": "mxATGsErLV1i",
        "colab": {
          "base_uri": "https://localhost:8080/",
          "height": 141
        },
        "outputId": "aa1c73f8-b5ab-425d-8fcf-e799f877a9bc"
      },
      "execution_count": null,
      "outputs": [
        {
          "output_type": "error",
          "ename": "TypeError",
          "evalue": "'str' object is not an iterator",
          "traceback": [
            "\u001b[0;31m---------------------------------------------------------------------------\u001b[0m",
            "\u001b[0;31mTypeError\u001b[0m                                 Traceback (most recent call last)",
            "\u001b[0;32m<ipython-input-6-1cf9746b65df>\u001b[0m in \u001b[0;36m<cell line: 1>\u001b[0;34m()\u001b[0m\n\u001b[0;32m----> 1\u001b[0;31m \u001b[0mnext\u001b[0m\u001b[0;34m(\u001b[0m\u001b[0mmy_str11\u001b[0m\u001b[0;34m)\u001b[0m\u001b[0;34m\u001b[0m\u001b[0;34m\u001b[0m\u001b[0m\n\u001b[0m",
            "\u001b[0;31mTypeError\u001b[0m: 'str' object is not an iterator"
          ]
        }
      ]
    },
    {
      "cell_type": "markdown",
      "source": [
        " 12. (5б). Опишіть своїми словами в одному реченні, як ви розумієте різницю між ітерабельними обʼєктами та ітераторами (можна на прикладі)."
      ],
      "metadata": {
        "id": "XwtMEopwJ4pH"
      }
    },
    {
      "cell_type": "markdown",
      "source": [
        "Ітерабельний об'єкт - контейнер зі значенням, які можна перебират (рядок або лист), а ітератор - об'єкт, що створюється з ітерабельного об'єкту та використовується для його ітерації (неначе повзунок)."
      ],
      "metadata": {
        "id": "-sHrODc3KFn8"
      }
    },
    {
      "cell_type": "markdown",
      "source": [
        "13. (11б). Створіть клас, що має визначений Iterator Protocol та при кожному виклику next повертає літери англійської абетки, поки вони не вичерпаються."
      ],
      "metadata": {
        "id": "E9qJWmNbK8Gl"
      }
    },
    {
      "cell_type": "code",
      "source": [
        "class MyLetters:\n",
        "    def __init__(self):\n",
        "        self.current_letter = ord('a')\n",
        "\n",
        "    def __iter__(self):\n",
        "        return self\n",
        "\n",
        "    def __next__(self):\n",
        "        if self.current_letter <= ord('z'):\n",
        "            letter = chr(self.current_letter)\n",
        "            self.current_letter += 1\n",
        "            return letter\n",
        "        else:\n",
        "            raise StopIteration\n",
        "\n",
        "\n",
        "my_alph = MyLetters()\n",
        "for item in my_alph:\n",
        "    print(item, end=\" \")"
      ],
      "metadata": {
        "id": "cqx-g_RsLo6I",
        "colab": {
          "base_uri": "https://localhost:8080/"
        },
        "outputId": "2e2bdef3-77ad-4042-c710-3e4ff0008a24"
      },
      "execution_count": null,
      "outputs": [
        {
          "output_type": "stream",
          "name": "stdout",
          "text": [
            "a b c d e f g h i j k l m n o p q r s t u v w x y z "
          ]
        }
      ]
    },
    {
      "cell_type": "markdown",
      "source": [
        "# Вітаю! Ви велика(ий) молодець, що впоралась(вся). Похваліть себе та побалуйте чимось приємним. Я Вами пишаюся."
      ],
      "metadata": {
        "id": "Z3E3S_s1Fv7-"
      }
    }
  ]
}